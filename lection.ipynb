{
 "cells": [
  {
   "cell_type": "code",
   "execution_count": null,
   "id": "initial_id",
   "metadata": {
    "collapsed": true
   },
   "outputs": [],
   "source": [
    "class HelloWorldIterator:\n",
    "    \n",
    "    def __init__(self, n ):\n",
    "        self.n = n\n",
    "        \n",
    "    def __iter__(self):\n",
    "        print('Цикл начинается')\n",
    "        self.counter = 0\n",
    "        return self\n",
    "    \n",
    "    def __next__(self):\n",
    "        self.counter += 1\n",
    "        \n",
    "        if self.counter > self.n:\n",
    "            print('Цикл завершается')\n",
    "            raise StopIteration\n",
    "        \n",
    "        return 'Hello World!'\n",
    "    \n",
    "for item in HelloWorldIterator(n=3):\n",
    "    print(item)\n",
    "    "
   ]
  },
  {
   "cell_type": "code",
   "execution_count": null,
   "outputs": [],
   "source": [
    "class HelloWorld:\n",
    "    \n",
    "    def __init__(self):\n",
    "        pass\n",
    "    \n",
    "    def __iter__(self):\n",
    "        \n",
    "        return self\n",
    "    \n",
    "    def __next__(self):\n",
    "        \n",
    "        return 'Hello World!'\n",
    "    \n",
    "for item in HelloWorld():\n",
    "    print(item)"
   ],
   "metadata": {
    "collapsed": false
   },
   "id": "5e01ffcbfe3216a9"
  },
  {
   "cell_type": "code",
   "execution_count": null,
   "outputs": [],
   "source": [
    "class Range:\n",
    "    \n",
    "    def __init__(self, start, end, step=1):\n",
    "        self.start = start\n",
    "        self.end = end\n",
    "        self.step = step       \n",
    "        \n",
    "    def __iter__(self):\n",
    "        self.count = self.start - 1\n",
    "        return self\n",
    "    \n",
    "    def __next__(self):\n",
    "        self.count += self.step\n",
    "        \n",
    "        if self.count >= self.end:\n",
    "            raise StopIteration\n",
    "        \n",
    "        return self.count\n",
    "    \n",
    "r = Range(1, 100, 15)\n",
    "for item in r:\n",
    "    print(item)\n"
   ],
   "metadata": {
    "collapsed": false
   },
   "id": "ce22cb52caf617b6"
  },
  {
   "cell_type": "code",
   "execution_count": null,
   "outputs": [],
   "source": [
    "import requests\n",
    "\n",
    "class SwapiIter:\n",
    "    \n",
    "    def __init__(self):\n",
    "        pass\n",
    "    \n",
    "    def __iter__(self):\n",
    "        self.next_page = 'https://swapi.py4e.com/api/people/'\n",
    "        self.results = []\n",
    "        return self\n",
    "    \n",
    "    def __next__(self):\n",
    "        if len(self.results) == 0:\n",
    "            if not self.next_page:\n",
    "                raise StopIteration\n",
    "            data = requests.get(self.next_page).json()\n",
    "            self.next_page = data['next']\n",
    "            self.results = data['results']\n",
    "            \n",
    "        return self.results.pop()   \n",
    "\n",
    "for item in SwapiIter():\n",
    "    print(item)"
   ],
   "metadata": {
    "collapsed": false
   },
   "id": "159ccd9e89a6850a"
  },
  {
   "cell_type": "code",
   "execution_count": null,
   "outputs": [],
   "source": [
    "# Вариант 2\n",
    "\n",
    "import requests\n",
    "\n",
    "class SwapiIter:\n",
    "    \n",
    "    def __init__(self):\n",
    "        pass\n",
    "    \n",
    "    def __iter__(self):\n",
    "        self.next_page = 'https://swapi.py4e.com/api/people/'\n",
    "        self.results = []\n",
    "        self.i = -1\n",
    "        return self\n",
    "    \n",
    "    def __next__(self):\n",
    "        self.i += 1\n",
    "        if len(self.results) >= self.i:\n",
    "            if not self.next_page:\n",
    "                raise StopIteration\n",
    "            data = requests.get(self.next_page).json()\n",
    "            self.next_page = data['next']\n",
    "            self.results = data['results'] \n",
    "            self.i = 0\n",
    "            \n",
    "        return self.results[self.i]\n",
    "\n",
    "swapi = SwapiIter()\n",
    "for item in swapi:\n",
    "    print(item)"
   ],
   "metadata": {
    "collapsed": false
   },
   "id": "2594ccef34251be9"
  },
  {
   "cell_type": "code",
   "execution_count": null,
   "outputs": [],
   "source": [
    "collections = {\n",
    "    'a': [None, '3', False, 45],\n",
    "    'b': [23],\n",
    "    'c': ['65', 7, tuple(), 'Python']\n",
    "}\n",
    "\n",
    "class DictUnpack:\n",
    "    \n",
    "    def __init__(self, data_dict):\n",
    "        self.data_dict = data_dict\n",
    "    \n",
    "    def __iter__(self):\n",
    "        self.keys = tuple(self.data_dict.keys())\n",
    "        self.keys_i = -1\n",
    "        self.values = []\n",
    "        self.values_i = -1\n",
    "        return self\n",
    "    \n",
    "    def __next__(self):\n",
    "        self.values_i += 1\n",
    "        if self.values_i >= len(self.values):\n",
    "            self.keys_i += 1\n",
    "            if self.keys_i >= len(self.keys):\n",
    "                raise StopIteration\n",
    "            key = self.keys[self.keys_i]\n",
    "            self.values = self.data_dict[key]\n",
    "            self.values_i = 0\n",
    "        return self.values[self.values_i]\n",
    "    \n",
    "for item in DictUnpack(collections):\n",
    "    print(item)"
   ],
   "metadata": {
    "collapsed": false
   },
   "id": "5f02c6e1535c5070"
  },
  {
   "cell_type": "code",
   "execution_count": null,
   "outputs": [],
   "source": [
    "def foo():\n",
    "    \n",
    "    for i in range(3):\n",
    "        yield 1\n",
    "        yield '0'\n",
    "        yield None\n",
    "    \n",
    "foo_gen = foo()\n",
    "\n",
    "print(foo_gen)\n",
    "\n",
    "for item in foo_gen:\n",
    "    print(item)"
   ],
   "metadata": {
    "collapsed": false
   },
   "id": "6a454c8bbc6514d4"
  },
  {
   "cell_type": "code",
   "execution_count": null,
   "outputs": [],
   "source": [
    "def my_gen():\n",
    "    \n",
    "    for _ in range(3):\n",
    "        print('Код до yield')\n",
    "        \n",
    "        yield 'YIELD'\n",
    "        \n",
    "        print('Код после yield')\n",
    "        \n",
    "for item in my_gen():\n",
    "    print(item)"
   ],
   "metadata": {
    "collapsed": false
   },
   "id": "f990c4818e554ffe"
  },
  {
   "cell_type": "code",
   "execution_count": null,
   "outputs": [],
   "source": [
    "import requests\n",
    "\n",
    "def get_swapi_people():\n",
    "    next_page = 'https://swapi.py4e.com/api/people/'\n",
    "    while next_page:\n",
    "        data = requests.get(next_page).json()\n",
    "        next_page = data['next']\n",
    "        results = data['results'] \n",
    "        for item in results:\n",
    "            yield item\n",
    "            \n",
    "for item in get_swapi_people():\n",
    "    print(item)"
   ],
   "metadata": {
    "collapsed": false
   },
   "id": "15068b60954676b2"
  },
  {
   "cell_type": "code",
   "execution_count": null,
   "outputs": [],
   "source": [
    "class FlatIterator:\n",
    "\n",
    "    def __init__(self, list_of_list):\n",
    "        self.list_of_list = list_of_list\n",
    "\n",
    "    def __iter__(self):\n",
    "        self.list_of_list_i = -1\n",
    "        self.values = []\n",
    "        self.values_i = -1\n",
    "        return self\n",
    "\n",
    "    def __next__(self):\n",
    "        self.values_i += 1\n",
    "        if self.values_i >= len(self.values):\n",
    "            self.list_of_list_i += 1\n",
    "            if self.list_of_list_i >= len(self.list_of_list):\n",
    "                raise StopIteration\n",
    "            self.values = self.list_of_list[self.list_of_list_i]\n",
    "            self.values_i = 0\n",
    "        return self.values[self.values_i]\n",
    "\n",
    "\n",
    "def test_1():\n",
    "\n",
    "    list_of_lists_1 = [\n",
    "        ['a', 'b', 'c'],\n",
    "        ['d', 'e', 'f', 'h', False],\n",
    "        [1, 2, None]\n",
    "    ]\n",
    "\n",
    "    for flat_iterator_item, check_item in zip(\n",
    "            FlatIterator(list_of_lists_1),\n",
    "            ['a', 'b', 'c', 'd', 'e', 'f', 'h', False, 1, 2, None]\n",
    "    ):\n",
    "\n",
    "        assert flat_iterator_item == check_item\n",
    "\n",
    "    assert list(FlatIterator(list_of_lists_1)) == ['a', 'b', 'c', 'd', 'e', 'f', 'h', False, 1, 2, None]\n",
    "\n",
    "\n",
    "if __name__ == '__main__':\n",
    "    test_1()"
   ],
   "metadata": {
    "collapsed": false
   },
   "id": "4c648656e26ac66d"
  },
  {
   "cell_type": "code",
   "execution_count": null,
   "outputs": [],
   "source": [
    "class FlatIterator:\n",
    "\n",
    "    def __init__(self, list_of_list):\n",
    "        self.list_of_list = list_of_list\n",
    "\n",
    "    def __iter__(self):\n",
    "        self.list_of_list_i = -1\n",
    "        self.values = []\n",
    "        self.values_i = -1\n",
    "        return self\n",
    "\n",
    "    def __next__(self):\n",
    "        self.values_i += 1\n",
    "        if self.values_i >= len(self.values):\n",
    "            self.list_of_list_i += 1\n",
    "            if self.list_of_list_i >= len(self.list_of_list):\n",
    "                raise StopIteration\n",
    "            self.values = self.list_of_list[self.list_of_list_i]\n",
    "            self.values_i = 0\n",
    "        return self.values[self.values_i]\n",
    "\n",
    "\n",
    "list_of_lists_1 = [\n",
    "    ['a', 'b', 'c'],\n",
    "    ['d', 'e', 'f', 'h', False],\n",
    "    [1, 2, None]\n",
    "]\n",
    "\n",
    "for item in FlatIterator(list_of_lists_1):\n",
    "    print(item)"
   ],
   "metadata": {
    "collapsed": false
   },
   "id": "b91af8dcde059e95"
  },
  {
   "cell_type": "code",
   "execution_count": 5,
   "outputs": [],
   "source": [
    "import types\n",
    "\n",
    "\n",
    "def flat_generator(list_of_lists):\n",
    "    for sublist in list_of_lists:\n",
    "        for i in sublist:\n",
    "            yield i\n",
    "\n",
    "\n",
    "\n",
    "def test_2():\n",
    "\n",
    "    list_of_lists_1 = [\n",
    "        ['a', 'b', 'c'],\n",
    "        ['d', 'e', 'f', 'h', False],\n",
    "        [1, 2, None]\n",
    "    ]\n",
    "\n",
    "    for flat_iterator_item, check_item in zip(\n",
    "            flat_generator(list_of_lists_1),\n",
    "            ['a', 'b', 'c', 'd', 'e', 'f', 'h', False, 1, 2, None]\n",
    "    ):\n",
    "\n",
    "        assert flat_iterator_item == check_item\n",
    "\n",
    "    assert list(flat_generator(list_of_lists_1)) == ['a', 'b', 'c', 'd', 'e', 'f', 'h', False, 1, 2, None]\n",
    "\n",
    "    assert isinstance(flat_generator(list_of_lists_1), types.GeneratorType)\n",
    "\n",
    "\n",
    "if __name__ == '__main__':\n",
    "    test_2()"
   ],
   "metadata": {
    "collapsed": false,
    "ExecuteTime": {
     "end_time": "2023-08-08T03:23:03.909363700Z",
     "start_time": "2023-08-08T03:23:03.901612500Z"
    }
   },
   "id": "18da2468f4203404"
  },
  {
   "cell_type": "code",
   "execution_count": 3,
   "outputs": [
    {
     "name": "stdout",
     "output_type": "stream",
     "text": [
      "a\n",
      "b\n",
      "c\n",
      "d\n",
      "e\n",
      "f\n",
      "h\n",
      "False\n",
      "1\n",
      "2\n",
      "None\n"
     ]
    }
   ],
   "source": [
    "def flat_generator(list_of_lists):\n",
    "    for sublist in list_of_lists:\n",
    "        for i in sublist:\n",
    "            yield i\n",
    "            \n",
    "list_of_lists_1 = [\n",
    "        ['a', 'b', 'c'],\n",
    "        ['d', 'e', 'f', 'h', False],\n",
    "        [1, 2, None]\n",
    "    ]\n",
    "for i in flat_generator(list_of_lists_1):\n",
    "    print(i)"
   ],
   "metadata": {
    "collapsed": false,
    "ExecuteTime": {
     "end_time": "2023-08-08T03:22:21.708396300Z",
     "start_time": "2023-08-08T03:22:21.674357900Z"
    }
   },
   "id": "d1bd90ad88d6c76f"
  },
  {
   "cell_type": "code",
   "execution_count": null,
   "outputs": [],
   "source": [
    "import requests\n",
    "\n",
    "\n",
    "def get_swapi_people():\n",
    "    next_page = 'https://swapi.dev/api/people/'\n",
    "\n",
    "    while next_page:\n",
    "        result = requests.get(next_page).json()\n",
    "        next_page = result['next']\n",
    "        for character in result['results']:\n",
    "            yield character\n",
    "\n",
    "\n",
    "if __name__ == '__main__':\n",
    "    for item in get_swapi_people():\n",
    "        print(item)"
   ],
   "metadata": {
    "collapsed": false
   },
   "id": "d1ed580799cc5874"
  },
  {
   "cell_type": "markdown",
   "source": [],
   "metadata": {
    "collapsed": false
   },
   "id": "6d22e60d7c56f451"
  }
 ],
 "metadata": {
  "kernelspec": {
   "display_name": "Python 3",
   "language": "python",
   "name": "python3"
  },
  "language_info": {
   "codemirror_mode": {
    "name": "ipython",
    "version": 2
   },
   "file_extension": ".py",
   "mimetype": "text/x-python",
   "name": "python",
   "nbconvert_exporter": "python",
   "pygments_lexer": "ipython2",
   "version": "2.7.6"
  }
 },
 "nbformat": 4,
 "nbformat_minor": 5
}

{
 "cells": [
  {
   "cell_type": "code",
   "execution_count": null,
   "id": "initial_id",
   "metadata": {
    "collapsed": true
   },
   "outputs": [],
   "source": [
    "class HelloWorldIterator:\n",
    "    \n",
    "    def __init__(self, n ):\n",
    "        self.n = n\n",
    "        \n",
    "    def __iter__(self):\n",
    "        print('Цикл начинается')\n",
    "        self.counter = 0\n",
    "        return self\n",
    "    \n",
    "    def __next__(self):\n",
    "        self.counter += 1\n",
    "        \n",
    "        if self.counter > self.n:\n",
    "            print('Цикл завершается')\n",
    "            raise StopIteration\n",
    "        \n",
    "        return 'Hello World!'\n",
    "    \n",
    "for item in HelloWorldIterator(n=3):\n",
    "    print(item)\n",
    "    "
   ]
  },
  {
   "cell_type": "code",
   "execution_count": null,
   "outputs": [],
   "source": [
    "class HelloWorld:\n",
    "    \n",
    "    def __init__(self):\n",
    "        pass\n",
    "    \n",
    "    def __iter__(self):\n",
    "        \n",
    "        return self\n",
    "    \n",
    "    def __next__(self):\n",
    "        \n",
    "        return 'Hello World!'\n",
    "    \n",
    "for item in HelloWorld():\n",
    "    print(item)"
   ],
   "metadata": {
    "collapsed": false
   },
   "id": "5e01ffcbfe3216a9"
  },
  {
   "cell_type": "code",
   "execution_count": null,
   "outputs": [],
   "source": [
    "class Range:\n",
    "    \n",
    "    def __init__(self, start, end, step=1):\n",
    "        self.start = start\n",
    "        self.end = end\n",
    "        self.step = step       \n",
    "        \n",
    "    def __iter__(self):\n",
    "        self.count = self.start - 1\n",
    "        return self\n",
    "    \n",
    "    def __next__(self):\n",
    "        self.count += self.step\n",
    "        \n",
    "        if self.count >= self.end:\n",
    "            raise StopIteration\n",
    "        \n",
    "        return self.count\n",
    "    \n",
    "r = Range(1, 100, 15)\n",
    "for item in r:\n",
    "    print(item)\n"
   ],
   "metadata": {
    "collapsed": false
   },
   "id": "ce22cb52caf617b6"
  },
  {
   "cell_type": "code",
   "execution_count": null,
   "outputs": [],
   "source": [
    "import requests\n",
    "class SwapiIter:\n",
    "    "
   ],
   "metadata": {
    "collapsed": false
   },
   "id": "159ccd9e89a6850a"
  }
 ],
 "metadata": {
  "kernelspec": {
   "display_name": "Python 3",
   "language": "python",
   "name": "python3"
  },
  "language_info": {
   "codemirror_mode": {
    "name": "ipython",
    "version": 2
   },
   "file_extension": ".py",
   "mimetype": "text/x-python",
   "name": "python",
   "nbconvert_exporter": "python",
   "pygments_lexer": "ipython2",
   "version": "2.7.6"
  }
 },
 "nbformat": 4,
 "nbformat_minor": 5
}

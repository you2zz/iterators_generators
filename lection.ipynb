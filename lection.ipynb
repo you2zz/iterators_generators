{
 "cells": [
  {
   "cell_type": "code",
   "execution_count": 1,
   "id": "initial_id",
   "metadata": {
    "collapsed": true,
    "ExecuteTime": {
     "end_time": "2023-08-06T16:33:11.243713400Z",
     "start_time": "2023-08-06T16:33:11.228226800Z"
    }
   },
   "outputs": [
    {
     "name": "stdout",
     "output_type": "stream",
     "text": [
      "Цикл начинается\n",
      "Hello World!\n",
      "Hello World!\n",
      "Hello World!\n",
      "Цикл завершается\n"
     ]
    }
   ],
   "source": [
    "class HelloWorldIterator:\n",
    "    \n",
    "    def __init__(self, n ):\n",
    "        self.n = n\n",
    "        \n",
    "    def __iter__(self):\n",
    "        print('Цикл начинается')\n",
    "        self.counter = 0\n",
    "        return self\n",
    "    \n",
    "    def __next__(self):\n",
    "        self.counter += 1\n",
    "        \n",
    "        if self.counter > self.n:\n",
    "            print('Цикл завершается')\n",
    "            raise StopIteration\n",
    "        \n",
    "        return 'Hello World!'\n",
    "    \n",
    "for item in HelloWorldIterator(n=3):\n",
    "    print(item)\n",
    "    "
   ]
  },
  {
   "cell_type": "code",
   "execution_count": null,
   "outputs": [],
   "source": [
    "class HelloWorld:\n",
    "    \n",
    "    def __init__(self):\n",
    "        pass\n",
    "    \n",
    "    def __iter__(self):\n",
    "        \n",
    "        return self\n",
    "    \n",
    "    def __next__(self):\n",
    "        \n",
    "        return 'Hello World!'\n",
    "    \n",
    "for item in HelloWorld():\n",
    "    print(item)"
   ],
   "metadata": {
    "collapsed": false
   },
   "id": "5e01ffcbfe3216a9"
  },
  {
   "cell_type": "code",
   "execution_count": 3,
   "outputs": [
    {
     "ename": "TypeError",
     "evalue": "'type' object is not iterable",
     "output_type": "error",
     "traceback": [
      "\u001B[1;31m---------------------------------------------------------------------------\u001B[0m",
      "\u001B[1;31mTypeError\u001B[0m                                 Traceback (most recent call last)",
      "Cell \u001B[1;32mIn[3], line 19\u001B[0m\n\u001B[0;32m     15\u001B[0m             \u001B[38;5;28;01mraise\u001B[39;00m \u001B[38;5;167;01mStopIteration\u001B[39;00m\n\u001B[0;32m     17\u001B[0m         \u001B[38;5;28;01mreturn\u001B[39;00m \u001B[38;5;28mself\u001B[39m\u001B[38;5;241m.\u001B[39mcount\n\u001B[1;32m---> 19\u001B[0m \u001B[38;5;28;01mfor\u001B[39;00m item \u001B[38;5;129;01min\u001B[39;00m Range:\n\u001B[0;32m     20\u001B[0m     \u001B[38;5;28mprint\u001B[39m(item)\n",
      "\u001B[1;31mTypeError\u001B[0m: 'type' object is not iterable"
     ]
    }
   ],
   "source": [
    "class Range:\n",
    "    \n",
    "    def __init__(self, start, end, step=1):\n",
    "        self.start = start\n",
    "        self.end = end\n",
    "        self.step = step       \n",
    "    def __iter__(self):\n",
    "        self.count = self.start\n",
    "        return self\n",
    "    \n",
    "    def __next__(self):\n",
    "        self.count += 1\n",
    "        \n",
    "        if self.count >= self.end:\n",
    "            raise StopIteration\n",
    "        \n",
    "        return self.count\n",
    "    \n",
    "for item in Range:\n",
    "    print(item)"
   ],
   "metadata": {
    "collapsed": false,
    "ExecuteTime": {
     "end_time": "2023-08-06T16:35:18.746683600Z",
     "start_time": "2023-08-06T16:35:18.563360900Z"
    }
   },
   "id": "ce22cb52caf617b6"
  }
 ],
 "metadata": {
  "kernelspec": {
   "display_name": "Python 3",
   "language": "python",
   "name": "python3"
  },
  "language_info": {
   "codemirror_mode": {
    "name": "ipython",
    "version": 2
   },
   "file_extension": ".py",
   "mimetype": "text/x-python",
   "name": "python",
   "nbconvert_exporter": "python",
   "pygments_lexer": "ipython2",
   "version": "2.7.6"
  }
 },
 "nbformat": 4,
 "nbformat_minor": 5
}
